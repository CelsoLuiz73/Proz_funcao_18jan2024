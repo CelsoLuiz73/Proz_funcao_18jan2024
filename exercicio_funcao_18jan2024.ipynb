{
  "nbformat": 4,
  "nbformat_minor": 0,
  "metadata": {
    "colab": {
      "provenance": [],
      "authorship_tag": "ABX9TyP6YOZZVqzl/hLauJS5m7cx",
      "include_colab_link": true
    },
    "kernelspec": {
      "name": "python3",
      "display_name": "Python 3"
    },
    "language_info": {
      "name": "python"
    }
  },
  "cells": [
    {
      "cell_type": "markdown",
      "metadata": {
        "id": "view-in-github",
        "colab_type": "text"
      },
      "source": [
        "<a href=\"https://colab.research.google.com/github/CelsoLuiz73/Proz_funcao_18jan2024/blob/master/exercicio_funcao_18jan2024.ipynb\" target=\"_parent\"><img src=\"https://colab.research.google.com/assets/colab-badge.svg\" alt=\"Open In Colab\"/></a>"
      ]
    },
    {
      "cell_type": "markdown",
      "source": [
        "Faça uma função calculadora de dois números com três parâmetros: os dois primeiros serão os números da operação\n",
        "e o terceiro será a entrada que definirá a operação a ser executada. Considera a seguinte definição:\n",
        "1. Soma\n",
        "2. Subtração\n",
        "3. Multiplicação\n",
        "4. Divisão\n",
        "\n",
        "Caso seja inserido um número de operação que não exista, o resultado deverá ser 0."
      ],
      "metadata": {
        "id": "K7XppJhDvBsl"
      }
    },
    {
      "cell_type": "code",
      "execution_count": 1,
      "metadata": {
        "id": "5xRd1POJuKQG"
      },
      "outputs": [],
      "source": [
        "def calculadora(entrada = int, num_01 = float, num_02 = float):\n",
        "    if(entrada == 1):\n",
        "        soma = float = num_01 + num_02\n",
        "        return soma\n",
        "    elif(entrada == 2):\n",
        "        subtracao = float = num_01 - num_02\n",
        "        return subtracao\n",
        "    elif(entrada == 3):\n",
        "        multiplicacao = float = num_01 * num_02\n",
        "        return multiplicacao\n",
        "    elif(entrada == 4):\n",
        "        divisao = float = num_01 / num_02\n",
        "        return divisao\n",
        "    else : return \"Digitar 1 para Soma, 2 para Subtração, 3 para Multiplicação, 4 para Divisão \""
      ]
    },
    {
      "cell_type": "code",
      "source": [
        "calc = calculadora(1, 20.31, 30.24)\n",
        "print(calc)"
      ],
      "metadata": {
        "colab": {
          "base_uri": "https://localhost:8080/"
        },
        "id": "94MgdQsIuWye",
        "outputId": "74b2cf56-6e9c-43ac-85bb-38190f9255cc"
      },
      "execution_count": 2,
      "outputs": [
        {
          "output_type": "stream",
          "name": "stdout",
          "text": [
            "50.55\n"
          ]
        }
      ]
    },
    {
      "cell_type": "code",
      "source": [
        "calc = calculadora(2, 20.31, 30.24)\n",
        "print(calc)"
      ],
      "metadata": {
        "colab": {
          "base_uri": "https://localhost:8080/"
        },
        "id": "fc2N7yhzudNp",
        "outputId": "3a8bae87-5d78-45f0-a4c8-78f2d32e351a"
      },
      "execution_count": 3,
      "outputs": [
        {
          "output_type": "stream",
          "name": "stdout",
          "text": [
            "-9.93\n"
          ]
        }
      ]
    },
    {
      "cell_type": "code",
      "source": [
        "calc = calculadora(3, 20.31, 30.24)\n",
        "print(calc)"
      ],
      "metadata": {
        "colab": {
          "base_uri": "https://localhost:8080/"
        },
        "id": "OuS7G7qjugrB",
        "outputId": "cc5deafb-9627-4a02-fbff-00cbde9e41a6"
      },
      "execution_count": 4,
      "outputs": [
        {
          "output_type": "stream",
          "name": "stdout",
          "text": [
            "614.1743999999999\n"
          ]
        }
      ]
    },
    {
      "cell_type": "code",
      "source": [
        "calc = calculadora(4, 20.31, 30.24)\n",
        "print(calc)"
      ],
      "metadata": {
        "colab": {
          "base_uri": "https://localhost:8080/"
        },
        "id": "EAlAfy6QuxDD",
        "outputId": "e574c5be-8a9e-429f-cdcc-4fd77a23fc91"
      },
      "execution_count": 5,
      "outputs": [
        {
          "output_type": "stream",
          "name": "stdout",
          "text": [
            "0.6716269841269841\n"
          ]
        }
      ]
    },
    {
      "cell_type": "code",
      "source": [
        "calc = calculadora(5, 20.31, 30.24)\n",
        "print(calc)"
      ],
      "metadata": {
        "colab": {
          "base_uri": "https://localhost:8080/"
        },
        "id": "Rg0EVpphu1RJ",
        "outputId": "2d32fb07-1a24-4d8c-f2bb-28d58c0db398"
      },
      "execution_count": 9,
      "outputs": [
        {
          "output_type": "stream",
          "name": "stdout",
          "text": [
            "Digitar 1 para Soma, 2 para Subtração, 3 para Multiplicação, 4 para Divisão \n"
          ]
        }
      ]
    }
  ]
}